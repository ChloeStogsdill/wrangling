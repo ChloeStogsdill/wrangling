{
 "cells": [
  {
   "cell_type": "code",
   "execution_count": 170,
   "metadata": {},
   "outputs": [],
   "source": [
    "import pandas as pd\n",
    "import numpy as np\n",
    "import matplotlib.pyplot as plt"
   ]
  },
  {
   "cell_type": "markdown",
   "metadata": {},
   "source": [
    "# Q2: Shark Attacks"
   ]
  },
  {
   "cell_type": "markdown",
   "metadata": {},
   "source": [
    "#### P1: Open the shark attack file using Pandas. It is probably not a csv file, so read_csv won't work.\n"
   ]
  },
  {
   "cell_type": "code",
   "execution_count": 171,
   "metadata": {},
   "outputs": [],
   "source": [
    "# Install openpyxl package\n",
    "#%pip install xlrd\n",
    "# read an xls file\n",
    "file_path = './data/GSAF5.xls'\n",
    "df = pd.read_excel(file_path)"
   ]
  },
  {
   "cell_type": "code",
   "execution_count": 172,
   "metadata": {},
   "outputs": [
    {
     "data": {
      "text/html": [
       "<div>\n",
       "<style scoped>\n",
       "    .dataframe tbody tr th:only-of-type {\n",
       "        vertical-align: middle;\n",
       "    }\n",
       "\n",
       "    .dataframe tbody tr th {\n",
       "        vertical-align: top;\n",
       "    }\n",
       "\n",
       "    .dataframe thead th {\n",
       "        text-align: right;\n",
       "    }\n",
       "</style>\n",
       "<table border=\"1\" class=\"dataframe\">\n",
       "  <thead>\n",
       "    <tr style=\"text-align: right;\">\n",
       "      <th></th>\n",
       "      <th>Date</th>\n",
       "      <th>Year</th>\n",
       "      <th>Type</th>\n",
       "      <th>Country</th>\n",
       "      <th>State</th>\n",
       "      <th>Location</th>\n",
       "      <th>Activity</th>\n",
       "      <th>Name</th>\n",
       "      <th>Sex</th>\n",
       "      <th>Age</th>\n",
       "      <th>...</th>\n",
       "      <th>Species</th>\n",
       "      <th>Source</th>\n",
       "      <th>pdf</th>\n",
       "      <th>href formula</th>\n",
       "      <th>href</th>\n",
       "      <th>Case Number</th>\n",
       "      <th>Case Number.1</th>\n",
       "      <th>original order</th>\n",
       "      <th>Unnamed: 21</th>\n",
       "      <th>Unnamed: 22</th>\n",
       "    </tr>\n",
       "  </thead>\n",
       "  <tbody>\n",
       "    <tr>\n",
       "      <th>0</th>\n",
       "      <td>2025-01-11 00:00:00</td>\n",
       "      <td>2025.0</td>\n",
       "      <td>Provoked</td>\n",
       "      <td>USA</td>\n",
       "      <td>Hawaii</td>\n",
       "      <td>Off Haleiwa Boat Harbour Oahu</td>\n",
       "      <td>Diving</td>\n",
       "      <td>Male not stated was a dive tour worker</td>\n",
       "      <td>M</td>\n",
       "      <td>23</td>\n",
       "      <td>...</td>\n",
       "      <td>Not stated</td>\n",
       "      <td>Kevin McMurray Trackingsharks.com</td>\n",
       "      <td>NaN</td>\n",
       "      <td>NaN</td>\n",
       "      <td>NaN</td>\n",
       "      <td>NaN</td>\n",
       "      <td>NaN</td>\n",
       "      <td>NaN</td>\n",
       "      <td>NaN</td>\n",
       "      <td>NaN</td>\n",
       "    </tr>\n",
       "    <tr>\n",
       "      <th>1</th>\n",
       "      <td>2025-01-02 00:00:00</td>\n",
       "      <td>2025.0</td>\n",
       "      <td>Unprovoked</td>\n",
       "      <td>New Caledonia</td>\n",
       "      <td>Grande Terre</td>\n",
       "      <td>Islet of Kendek near Koumac</td>\n",
       "      <td>Spearfishing</td>\n",
       "      <td>Robert Cuewapuru</td>\n",
       "      <td>M</td>\n",
       "      <td>40</td>\n",
       "      <td>...</td>\n",
       "      <td>Reportedly Tiger or Bull shark</td>\n",
       "      <td>Johannes Marchand Todd Smith</td>\n",
       "      <td>NaN</td>\n",
       "      <td>NaN</td>\n",
       "      <td>NaN</td>\n",
       "      <td>NaN</td>\n",
       "      <td>NaN</td>\n",
       "      <td>NaN</td>\n",
       "      <td>NaN</td>\n",
       "      <td>NaN</td>\n",
       "    </tr>\n",
       "    <tr>\n",
       "      <th>2</th>\n",
       "      <td>2025-01-02 00:00:00</td>\n",
       "      <td>2025.0</td>\n",
       "      <td>Unprovoked</td>\n",
       "      <td>Australia</td>\n",
       "      <td>South Australia</td>\n",
       "      <td>Granites Beach near Westall Streaky Bay</td>\n",
       "      <td>Surfing</td>\n",
       "      <td>Lance Appleby</td>\n",
       "      <td>M</td>\n",
       "      <td>28</td>\n",
       "      <td>...</td>\n",
       "      <td>Great White Shart estimated 4.8m 16 ft</td>\n",
       "      <td>Glen Folkard: Simon De Marchi News.com.au: The...</td>\n",
       "      <td>NaN</td>\n",
       "      <td>NaN</td>\n",
       "      <td>NaN</td>\n",
       "      <td>NaN</td>\n",
       "      <td>NaN</td>\n",
       "      <td>NaN</td>\n",
       "      <td>NaN</td>\n",
       "      <td>NaN</td>\n",
       "    </tr>\n",
       "    <tr>\n",
       "      <th>3</th>\n",
       "      <td>2024-12-29 00:00:00</td>\n",
       "      <td>2024.0</td>\n",
       "      <td>Unprovoked</td>\n",
       "      <td>Egypt</td>\n",
       "      <td>North of Marsa Alam</td>\n",
       "      <td>Red Sea</td>\n",
       "      <td>SCUBA Diving</td>\n",
       "      <td>Peppino Fappani</td>\n",
       "      <td>M</td>\n",
       "      <td>69</td>\n",
       "      <td>...</td>\n",
       "      <td>Reportedly a Tiger Shark</td>\n",
       "      <td>Todd Smith : Kevin McMurray Trackingsharks .co...</td>\n",
       "      <td>NaN</td>\n",
       "      <td>NaN</td>\n",
       "      <td>NaN</td>\n",
       "      <td>NaN</td>\n",
       "      <td>NaN</td>\n",
       "      <td>NaN</td>\n",
       "      <td>NaN</td>\n",
       "      <td>NaN</td>\n",
       "    </tr>\n",
       "    <tr>\n",
       "      <th>4</th>\n",
       "      <td>2024-12-29 00:00:00</td>\n",
       "      <td>2024.0</td>\n",
       "      <td>Unprovoked</td>\n",
       "      <td>Egypt</td>\n",
       "      <td>North of Marsa Alam</td>\n",
       "      <td>Red Sea</td>\n",
       "      <td>SCUBA Diving</td>\n",
       "      <td>Gianluca Di Gioia</td>\n",
       "      <td>M</td>\n",
       "      <td>48</td>\n",
       "      <td>...</td>\n",
       "      <td>Reportedly a Tiger Shark</td>\n",
       "      <td>Todd Smith : Kevin McMurray Trackingsharks .co...</td>\n",
       "      <td>NaN</td>\n",
       "      <td>NaN</td>\n",
       "      <td>NaN</td>\n",
       "      <td>NaN</td>\n",
       "      <td>NaN</td>\n",
       "      <td>NaN</td>\n",
       "      <td>NaN</td>\n",
       "      <td>NaN</td>\n",
       "    </tr>\n",
       "  </tbody>\n",
       "</table>\n",
       "<p>5 rows × 23 columns</p>\n",
       "</div>"
      ],
      "text/plain": [
       "                  Date    Year        Type        Country  \\\n",
       "0  2025-01-11 00:00:00  2025.0    Provoked            USA   \n",
       "1  2025-01-02 00:00:00  2025.0  Unprovoked  New Caledonia   \n",
       "2  2025-01-02 00:00:00  2025.0  Unprovoked      Australia   \n",
       "3  2024-12-29 00:00:00  2024.0  Unprovoked          Egypt   \n",
       "4  2024-12-29 00:00:00  2024.0  Unprovoked          Egypt   \n",
       "\n",
       "                 State                                 Location      Activity  \\\n",
       "0               Hawaii            Off Haleiwa Boat Harbour Oahu        Diving   \n",
       "1         Grande Terre              Islet of Kendek near Koumac  Spearfishing   \n",
       "2      South Australia  Granites Beach near Westall Streaky Bay       Surfing   \n",
       "3  North of Marsa Alam                                  Red Sea  SCUBA Diving   \n",
       "4  North of Marsa Alam                                  Red Sea  SCUBA Diving   \n",
       "\n",
       "                                     Name Sex Age  ...  \\\n",
       "0  Male not stated was a dive tour worker   M  23  ...   \n",
       "1                        Robert Cuewapuru   M  40  ...   \n",
       "2                           Lance Appleby   M  28  ...   \n",
       "3                         Peppino Fappani   M  69  ...   \n",
       "4                       Gianluca Di Gioia   M  48  ...   \n",
       "\n",
       "                                 Species   \\\n",
       "0                              Not stated   \n",
       "1          Reportedly Tiger or Bull shark   \n",
       "2  Great White Shart estimated 4.8m 16 ft   \n",
       "3                Reportedly a Tiger Shark   \n",
       "4                Reportedly a Tiger Shark   \n",
       "\n",
       "                                              Source  pdf href formula href  \\\n",
       "0                  Kevin McMurray Trackingsharks.com  NaN          NaN  NaN   \n",
       "1                      Johannes Marchand Todd Smith   NaN          NaN  NaN   \n",
       "2  Glen Folkard: Simon De Marchi News.com.au: The...  NaN          NaN  NaN   \n",
       "3  Todd Smith : Kevin McMurray Trackingsharks .co...  NaN          NaN  NaN   \n",
       "4  Todd Smith : Kevin McMurray Trackingsharks .co...  NaN          NaN  NaN   \n",
       "\n",
       "  Case Number Case Number.1 original order Unnamed: 21 Unnamed: 22  \n",
       "0         NaN           NaN            NaN         NaN         NaN  \n",
       "1         NaN           NaN            NaN         NaN         NaN  \n",
       "2         NaN           NaN            NaN         NaN         NaN  \n",
       "3         NaN           NaN            NaN         NaN         NaN  \n",
       "4         NaN           NaN            NaN         NaN         NaN  \n",
       "\n",
       "[5 rows x 23 columns]"
      ]
     },
     "execution_count": 172,
     "metadata": {},
     "output_type": "execute_result"
    }
   ],
   "source": [
    "df.head()"
   ]
  },
  {
   "cell_type": "markdown",
   "metadata": {},
   "source": [
    "#### P2: Drop any columns that do not contain data."
   ]
  },
  {
   "cell_type": "code",
   "execution_count": 173,
   "metadata": {},
   "outputs": [
    {
     "data": {
      "text/html": [
       "<div>\n",
       "<style scoped>\n",
       "    .dataframe tbody tr th:only-of-type {\n",
       "        vertical-align: middle;\n",
       "    }\n",
       "\n",
       "    .dataframe tbody tr th {\n",
       "        vertical-align: top;\n",
       "    }\n",
       "\n",
       "    .dataframe thead th {\n",
       "        text-align: right;\n",
       "    }\n",
       "</style>\n",
       "<table border=\"1\" class=\"dataframe\">\n",
       "  <thead>\n",
       "    <tr style=\"text-align: right;\">\n",
       "      <th></th>\n",
       "      <th>Date</th>\n",
       "      <th>Year</th>\n",
       "      <th>Type</th>\n",
       "      <th>Country</th>\n",
       "      <th>State</th>\n",
       "      <th>Location</th>\n",
       "      <th>Activity</th>\n",
       "      <th>Name</th>\n",
       "      <th>Sex</th>\n",
       "      <th>Age</th>\n",
       "      <th>...</th>\n",
       "      <th>Species</th>\n",
       "      <th>Source</th>\n",
       "      <th>pdf</th>\n",
       "      <th>href formula</th>\n",
       "      <th>href</th>\n",
       "      <th>Case Number</th>\n",
       "      <th>Case Number.1</th>\n",
       "      <th>original order</th>\n",
       "      <th>Unnamed: 21</th>\n",
       "      <th>Unnamed: 22</th>\n",
       "    </tr>\n",
       "  </thead>\n",
       "  <tbody>\n",
       "    <tr>\n",
       "      <th>0</th>\n",
       "      <td>2025-01-11 00:00:00</td>\n",
       "      <td>2025.0</td>\n",
       "      <td>Provoked</td>\n",
       "      <td>USA</td>\n",
       "      <td>Hawaii</td>\n",
       "      <td>Off Haleiwa Boat Harbour Oahu</td>\n",
       "      <td>Diving</td>\n",
       "      <td>Male not stated was a dive tour worker</td>\n",
       "      <td>M</td>\n",
       "      <td>23</td>\n",
       "      <td>...</td>\n",
       "      <td>Not stated</td>\n",
       "      <td>Kevin McMurray Trackingsharks.com</td>\n",
       "      <td>NaN</td>\n",
       "      <td>NaN</td>\n",
       "      <td>NaN</td>\n",
       "      <td>NaN</td>\n",
       "      <td>NaN</td>\n",
       "      <td>NaN</td>\n",
       "      <td>NaN</td>\n",
       "      <td>NaN</td>\n",
       "    </tr>\n",
       "    <tr>\n",
       "      <th>1</th>\n",
       "      <td>2025-01-02 00:00:00</td>\n",
       "      <td>2025.0</td>\n",
       "      <td>Unprovoked</td>\n",
       "      <td>New Caledonia</td>\n",
       "      <td>Grande Terre</td>\n",
       "      <td>Islet of Kendek near Koumac</td>\n",
       "      <td>Spearfishing</td>\n",
       "      <td>Robert Cuewapuru</td>\n",
       "      <td>M</td>\n",
       "      <td>40</td>\n",
       "      <td>...</td>\n",
       "      <td>Reportedly Tiger or Bull shark</td>\n",
       "      <td>Johannes Marchand Todd Smith</td>\n",
       "      <td>NaN</td>\n",
       "      <td>NaN</td>\n",
       "      <td>NaN</td>\n",
       "      <td>NaN</td>\n",
       "      <td>NaN</td>\n",
       "      <td>NaN</td>\n",
       "      <td>NaN</td>\n",
       "      <td>NaN</td>\n",
       "    </tr>\n",
       "    <tr>\n",
       "      <th>2</th>\n",
       "      <td>2025-01-02 00:00:00</td>\n",
       "      <td>2025.0</td>\n",
       "      <td>Unprovoked</td>\n",
       "      <td>Australia</td>\n",
       "      <td>South Australia</td>\n",
       "      <td>Granites Beach near Westall Streaky Bay</td>\n",
       "      <td>Surfing</td>\n",
       "      <td>Lance Appleby</td>\n",
       "      <td>M</td>\n",
       "      <td>28</td>\n",
       "      <td>...</td>\n",
       "      <td>Great White Shart estimated 4.8m 16 ft</td>\n",
       "      <td>Glen Folkard: Simon De Marchi News.com.au: The...</td>\n",
       "      <td>NaN</td>\n",
       "      <td>NaN</td>\n",
       "      <td>NaN</td>\n",
       "      <td>NaN</td>\n",
       "      <td>NaN</td>\n",
       "      <td>NaN</td>\n",
       "      <td>NaN</td>\n",
       "      <td>NaN</td>\n",
       "    </tr>\n",
       "    <tr>\n",
       "      <th>3</th>\n",
       "      <td>2024-12-29 00:00:00</td>\n",
       "      <td>2024.0</td>\n",
       "      <td>Unprovoked</td>\n",
       "      <td>Egypt</td>\n",
       "      <td>North of Marsa Alam</td>\n",
       "      <td>Red Sea</td>\n",
       "      <td>SCUBA Diving</td>\n",
       "      <td>Peppino Fappani</td>\n",
       "      <td>M</td>\n",
       "      <td>69</td>\n",
       "      <td>...</td>\n",
       "      <td>Reportedly a Tiger Shark</td>\n",
       "      <td>Todd Smith : Kevin McMurray Trackingsharks .co...</td>\n",
       "      <td>NaN</td>\n",
       "      <td>NaN</td>\n",
       "      <td>NaN</td>\n",
       "      <td>NaN</td>\n",
       "      <td>NaN</td>\n",
       "      <td>NaN</td>\n",
       "      <td>NaN</td>\n",
       "      <td>NaN</td>\n",
       "    </tr>\n",
       "    <tr>\n",
       "      <th>4</th>\n",
       "      <td>2024-12-29 00:00:00</td>\n",
       "      <td>2024.0</td>\n",
       "      <td>Unprovoked</td>\n",
       "      <td>Egypt</td>\n",
       "      <td>North of Marsa Alam</td>\n",
       "      <td>Red Sea</td>\n",
       "      <td>SCUBA Diving</td>\n",
       "      <td>Gianluca Di Gioia</td>\n",
       "      <td>M</td>\n",
       "      <td>48</td>\n",
       "      <td>...</td>\n",
       "      <td>Reportedly a Tiger Shark</td>\n",
       "      <td>Todd Smith : Kevin McMurray Trackingsharks .co...</td>\n",
       "      <td>NaN</td>\n",
       "      <td>NaN</td>\n",
       "      <td>NaN</td>\n",
       "      <td>NaN</td>\n",
       "      <td>NaN</td>\n",
       "      <td>NaN</td>\n",
       "      <td>NaN</td>\n",
       "      <td>NaN</td>\n",
       "    </tr>\n",
       "  </tbody>\n",
       "</table>\n",
       "<p>5 rows × 23 columns</p>\n",
       "</div>"
      ],
      "text/plain": [
       "                  Date    Year        Type        Country  \\\n",
       "0  2025-01-11 00:00:00  2025.0    Provoked            USA   \n",
       "1  2025-01-02 00:00:00  2025.0  Unprovoked  New Caledonia   \n",
       "2  2025-01-02 00:00:00  2025.0  Unprovoked      Australia   \n",
       "3  2024-12-29 00:00:00  2024.0  Unprovoked          Egypt   \n",
       "4  2024-12-29 00:00:00  2024.0  Unprovoked          Egypt   \n",
       "\n",
       "                 State                                 Location      Activity  \\\n",
       "0               Hawaii            Off Haleiwa Boat Harbour Oahu        Diving   \n",
       "1         Grande Terre              Islet of Kendek near Koumac  Spearfishing   \n",
       "2      South Australia  Granites Beach near Westall Streaky Bay       Surfing   \n",
       "3  North of Marsa Alam                                  Red Sea  SCUBA Diving   \n",
       "4  North of Marsa Alam                                  Red Sea  SCUBA Diving   \n",
       "\n",
       "                                     Name Sex Age  ...  \\\n",
       "0  Male not stated was a dive tour worker   M  23  ...   \n",
       "1                        Robert Cuewapuru   M  40  ...   \n",
       "2                           Lance Appleby   M  28  ...   \n",
       "3                         Peppino Fappani   M  69  ...   \n",
       "4                       Gianluca Di Gioia   M  48  ...   \n",
       "\n",
       "                                 Species   \\\n",
       "0                              Not stated   \n",
       "1          Reportedly Tiger or Bull shark   \n",
       "2  Great White Shart estimated 4.8m 16 ft   \n",
       "3                Reportedly a Tiger Shark   \n",
       "4                Reportedly a Tiger Shark   \n",
       "\n",
       "                                              Source  pdf href formula href  \\\n",
       "0                  Kevin McMurray Trackingsharks.com  NaN          NaN  NaN   \n",
       "1                      Johannes Marchand Todd Smith   NaN          NaN  NaN   \n",
       "2  Glen Folkard: Simon De Marchi News.com.au: The...  NaN          NaN  NaN   \n",
       "3  Todd Smith : Kevin McMurray Trackingsharks .co...  NaN          NaN  NaN   \n",
       "4  Todd Smith : Kevin McMurray Trackingsharks .co...  NaN          NaN  NaN   \n",
       "\n",
       "  Case Number Case Number.1 original order Unnamed: 21 Unnamed: 22  \n",
       "0         NaN           NaN            NaN         NaN         NaN  \n",
       "1         NaN           NaN            NaN         NaN         NaN  \n",
       "2         NaN           NaN            NaN         NaN         NaN  \n",
       "3         NaN           NaN            NaN         NaN         NaN  \n",
       "4         NaN           NaN            NaN         NaN         NaN  \n",
       "\n",
       "[5 rows x 23 columns]"
      ]
     },
     "execution_count": 173,
     "metadata": {},
     "output_type": "execute_result"
    }
   ],
   "source": [
    "# drop any columns that are all NaN\n",
    "df = df.dropna(axis=1, how='all')\n",
    "\n",
    "df.head()\n"
   ]
  },
  {
   "cell_type": "markdown",
   "metadata": {},
   "source": [
    "#### P3: Clean the year variable. Describe the range of values you see. Filter the rows to focus on attacks since 1940. Are attacks increasing, decreasing, or remaining constant over time?"
   ]
  },
  {
   "cell_type": "code",
   "execution_count": 174,
   "metadata": {},
   "outputs": [
    {
     "data": {
      "text/plain": [
       "array([2025., 2024., 2026., 2023., 2022., 2021., 2020., 2019., 2018.,\n",
       "       2017.,   nan, 2016., 2015., 2014., 2013., 2012., 2011., 2010.,\n",
       "       2009., 2008., 2007., 2006., 2005., 2004., 2003., 2002., 2001.,\n",
       "       2000., 1999., 1998., 1997., 1996., 1995., 1984., 1994., 1993.,\n",
       "       1992., 1991., 1990., 1989., 1969., 1988., 1987., 1986., 1985.,\n",
       "       1983., 1982., 1981., 1980., 1979., 1978., 1977., 1976., 1975.,\n",
       "       1974., 1973., 1972., 1971., 1970., 1968., 1967., 1966., 1965.,\n",
       "       1964., 1963., 1962., 1961., 1960., 1959., 1958., 1957., 1956.,\n",
       "       1955., 1954., 1953., 1952., 1951., 1950., 1949., 1948., 1848.,\n",
       "       1947., 1946., 1945., 1944., 1943., 1942., 1941., 1940., 1939.,\n",
       "       1938., 1937., 1936., 1935., 1934., 1933., 1932., 1931., 1930.,\n",
       "       1929., 1928., 1927., 1926., 1925., 1924., 1923., 1922., 1921.,\n",
       "       1920., 1919., 1918., 1917., 1916., 1915., 1914., 1913., 1912.,\n",
       "       1911., 1910., 1909., 1908., 1907., 1906., 1905., 1904., 1903.,\n",
       "       1902., 1901., 1900., 1899., 1898., 1897., 1896., 1895., 1894.,\n",
       "       1893., 1892., 1891., 1890., 1889., 1888., 1887., 1886., 1885.,\n",
       "       1884., 1883., 1882., 1881., 1880., 1879., 1878., 1877., 1876.,\n",
       "       1875., 1874., 1873., 1872., 1871., 1870., 1869., 1868., 1867.,\n",
       "       1866., 1865., 1864., 1863., 1862., 1861., 1860., 1859., 1858.,\n",
       "       1857., 1856., 1855., 1853., 1852., 1851., 1850., 1849., 1847.,\n",
       "       1846., 1845., 1844., 1842., 1841., 1840., 1839., 1837., 1836.,\n",
       "       1835., 1834., 1832., 1831., 1830., 1829., 1828., 1827., 1826.,\n",
       "       1825., 1823., 1822., 1819., 1818., 1817., 1816., 1815., 1812.,\n",
       "       1811., 1810., 1808., 1807., 1805., 1804., 1803., 1802., 1801.,\n",
       "       1800., 1797., 1792., 1791., 1788., 1787., 1786., 1785., 1784.,\n",
       "       1783., 1780., 1779., 1776., 1771., 1767., 1764., 1758., 1753.,\n",
       "       1751., 1749., 1755., 1748., 1742., 1738., 1733., 1723., 1721.,\n",
       "       1703., 1700., 1642., 1691., 1640., 1638., 1637., 1617., 1595.,\n",
       "       1580., 1555., 1554., 1543., 1518., 1500., 1000.,   77.,    5.,\n",
       "          0.])"
      ]
     },
     "execution_count": 174,
     "metadata": {},
     "output_type": "execute_result"
    }
   ],
   "source": [
    "# look at year column\n",
    "df['Year'].unique()"
   ]
  },
  {
   "cell_type": "markdown",
   "metadata": {},
   "source": [
    "The range of values for this column include 0, 5, 77, 1000 (all.... interesting years to have chosen to report a shark attack) up to 2026- quite improbable."
   ]
  },
  {
   "cell_type": "code",
   "execution_count": 175,
   "metadata": {},
   "outputs": [
    {
     "data": {
      "text/plain": [
       "array([2025., 2024., 2026., 2023., 2022., 2021., 2020., 2019., 2018.,\n",
       "       2017., 2016., 2015., 2014., 2013., 2012., 2011., 2010., 2009.,\n",
       "       2008., 2007., 2006., 2005., 2004., 2003., 2002., 2001., 2000.,\n",
       "       1999., 1998., 1997., 1996., 1995., 1984., 1994., 1993., 1992.,\n",
       "       1991., 1990., 1989., 1969., 1988., 1987., 1986., 1985., 1983.,\n",
       "       1982., 1981., 1980., 1979., 1978., 1977., 1976., 1975., 1974.,\n",
       "       1973., 1972., 1971., 1970., 1968., 1967., 1966., 1965., 1964.,\n",
       "       1963., 1962., 1961., 1960., 1959., 1958., 1957., 1956., 1955.,\n",
       "       1954., 1953., 1952., 1951., 1950., 1949., 1948., 1947., 1946.,\n",
       "       1945., 1944., 1943., 1942., 1941., 1940.])"
      ]
     },
     "execution_count": 175,
     "metadata": {},
     "output_type": "execute_result"
    }
   ],
   "source": [
    "# filter out rows that occur after 1940\n",
    "df = df[df['Year'] >= 1940]\n",
    "df['Year'].unique()"
   ]
  },
  {
   "cell_type": "code",
   "execution_count": 176,
   "metadata": {},
   "outputs": [
    {
     "data": {
      "text/plain": [
       "<Axes: >"
      ]
     },
     "execution_count": 176,
     "metadata": {},
     "output_type": "execute_result"
    },
    {
     "data": {
      "image/png": "[encoded data removed]",
      "text/plain": [
       "<Figure size 640x480 with 1 Axes>"
      ]
     },
     "metadata": {},
     "output_type": "display_data"
    }
   ],
   "source": [
    "# are attacks increasing, decreasing, or staying the same?\n",
    "df['Year'].value_counts().sort_index()\n",
    "# plot\n",
    "df['Year'].value_counts().sort_index().plot()"
   ]
  },
  {
   "cell_type": "markdown",
   "metadata": {},
   "source": [
    "Attacks seem to have been increasing, but are now decreasing with time."
   ]
  },
  {
   "cell_type": "markdown",
   "metadata": {},
   "source": [
    "#### P4: Clean the Age variable and make a histogram of the ages of the victims."
   ]
  },
  {
   "cell_type": "code",
   "execution_count": 177,
   "metadata": {},
   "outputs": [
    {
     "data": {
      "text/plain": [
       "array([23, 40, 28, 69, 48, '60+', '?', 57, 24, 45, 61, 27, 38, 16, 33, 30,\n",
       "       15, 41, 14, 26, 'Middle age', 18, 21, 49, 25, 46, 19, 20, 65, 64,\n",
       "       '13', nan, '11', '46', '32', '29', '10', '64', '62', '39', '22',\n",
       "       '15', '16', '21', '66', '52', '20', '44', '26', '47', '55', '30',\n",
       "       '59', '8', '50', '45', '34', '38', '30s', '37', '9', '19', '20/30',\n",
       "       '35', '65', '20s', '77', '60', '49', '42', '!2', '24', '73', '25',\n",
       "       '18', '50s', '58', '67', '17', '14', '6', '41', '53', '68', '43',\n",
       "       '40', '51', '31', 39, 58, 51, 17, 10, 13, 60, '40s', 68, 35, 62,\n",
       "       'teen', 8, 22, 32, 56, 'Teen', 12, 42, 36, 37, 50, 'M', 9, 11, 34,\n",
       "       '!6', 31, '!!', 47, 55, 7, 71, 59, 53, 54, 75, '45 and 15', 73, 52,\n",
       "       29, 70, 4, 63, 44, '28 & 22', '22, 57, 31', '60s', \"20's\", 43, 67,\n",
       "       74, '9 & 60', 'a minor', 6, 3, 82, 66, 72, '23', '12', '36', '63',\n",
       "       '71', '48', '70', '18 months', '57', '7', '28', '33', '61', '74',\n",
       "       '27', '3', '56', '28 & 26', '5', '54', '86', '18 or 20',\n",
       "       '12 or 13', '46 & 34', '28, 23 & 30', 'Teens', 77, '36 & 26',\n",
       "       '8 or 10', 84, '\\xa0 ', ' ', '30 or 36', '6½', '21 & ?',\n",
       "       '33 or 37', 'mid-30s', '23 & 20', 5, ' 30', '7      &    31',\n",
       "       ' 28', '20?', \"60's\", '69', '32 & 30', '16 to 18', '87', 'Elderly',\n",
       "       'mid-20s', 'Ca. 33', '74 ', '45 ', '21 or 26', '20 ', '>50',\n",
       "       '18 to 22', 'adult', '9 & 12', '? & 19', '9 months', '25 to 35',\n",
       "       '23 & 26', 1, '(adult)', '33 & 37', '25 or 28',\n",
       "       '37, 67, 35, 27,  ? & 27', '21, 34,24 & 35', '30 & 32', '50 & 30',\n",
       "       '17 & 35', 'X', '\"middle-age\"', '13 or 18', '34 & 19', '33 & 26',\n",
       "       '2 to 3 months', '4', 'MAKE LINE GREEN', ' 43', '81', '\"young\"',\n",
       "       '7 or 8', 78, '17 & 16', 'F'], dtype=object)"
      ]
     },
     "execution_count": 177,
     "metadata": {},
     "output_type": "execute_result"
    }
   ],
   "source": [
    "# look at age var\n",
    "df['Age'].unique()"
   ]
  },
  {
   "cell_type": "code",
   "execution_count": 178,
   "metadata": {},
   "outputs": [
    {
     "data": {
      "text/plain": [
       "array([23., 40., 28., 69., 48., nan, 57., 24., 45., 61., 27., 38., 16.,\n",
       "       33., 30., 15., 41., 14., 26., 18., 21., 49., 25., 46., 19., 20.,\n",
       "       65., 64., 13., 11., 32., 29., 10., 62., 39., 22., 66., 52., 44.,\n",
       "       47., 55., 59.,  8., 50., 34., 37.,  9., 35., 77., 60., 42., 73.,\n",
       "       58., 67., 17.,  6., 53., 68., 43., 51., 31., 56., 12., 36.,  7.,\n",
       "       71., 54., 75., 70.,  4., 63., 74.,  3., 82., 72.,  5., 86., 84.,\n",
       "       87.,  1., 81., 78.])"
      ]
     },
     "execution_count": 178,
     "metadata": {},
     "output_type": "execute_result"
    }
   ],
   "source": [
    "# remove rows with NaN in Age column\n",
    "df = df.dropna(subset=['Age'])\n",
    "# replace rows that are not numeric with NaN\n",
    "df['Age'] = pd.to_numeric(df['Age'], errors='coerce')\n",
    "# look at age var\n",
    "df['Age'].unique()"
   ]
  },
  {
   "cell_type": "code",
   "execution_count": 179,
   "metadata": {},
   "outputs": [
    {
     "data": {
      "text/plain": [
       "<Axes: ylabel='Frequency'>"
      ]
     },
     "execution_count": 179,
     "metadata": {},
     "output_type": "execute_result"
    },
    {
     "data": {
      "image/png": "[encoded data removed]",
      "text/plain": [
       "<Figure size 640x480 with 1 Axes>"
      ]
     },
     "metadata": {},
     "output_type": "display_data"
    }
   ],
   "source": [
    "# plot\n",
    "df['Age'].plot(kind='hist', bins=20)"
   ]
  },
  {
   "cell_type": "markdown",
   "metadata": {},
   "source": [
    "#### P5: What proportion of victims are male?"
   ]
  },
  {
   "cell_type": "code",
   "execution_count": 180,
   "metadata": {},
   "outputs": [
    {
     "data": {
      "text/plain": [
       "array(['M', 'F', nan, ' M', 'M ', 'lli'], dtype=object)"
      ]
     },
     "execution_count": 180,
     "metadata": {},
     "output_type": "execute_result"
    }
   ],
   "source": [
    "# look at sex var \n",
    "df['Sex'].unique()"
   ]
  },
  {
   "cell_type": "code",
   "execution_count": 181,
   "metadata": {},
   "outputs": [
    {
     "data": {
      "text/plain": [
       "array(['M', 'F', nan, 'lli'], dtype=object)"
      ]
     },
     "execution_count": 181,
     "metadata": {},
     "output_type": "execute_result"
    }
   ],
   "source": [
    "# replace \" M\" and \"M \" with \"M\" \n",
    "df['Sex'] = df['Sex'].str.replace(r'\\s+', '', regex=True)\n",
    "df['Sex'].unique()"
   ]
  },
  {
   "cell_type": "code",
   "execution_count": 182,
   "metadata": {},
   "outputs": [
    {
     "data": {
      "text/plain": [
       "0.8344208809135399"
      ]
     },
     "execution_count": 182,
     "metadata": {},
     "output_type": "execute_result"
    }
   ],
   "source": [
    "# what proportion of attacks are on males\n",
    "(df['Sex'] == 'M').mean()"
   ]
  },
  {
   "cell_type": "markdown",
   "metadata": {},
   "source": [
    "#### P5: Clean the Type variable so it only takes three values: Provoked and Unprovoked and Unknown. What proportion of attacks are unprovoked?"
   ]
  },
  {
   "cell_type": "code",
   "execution_count": 183,
   "metadata": {},
   "outputs": [
    {
     "data": {
      "text/plain": [
       "array(['Provoked', 'Unprovoked', 'Questionable', 'Watercraft',\n",
       "       'Sea Disaster', '?', nan, 'Invalid', 'Under investigation'],\n",
       "      dtype=object)"
      ]
     },
     "execution_count": 183,
     "metadata": {},
     "output_type": "execute_result"
    }
   ],
   "source": [
    "# look at type var\n",
    "df['Type'].unique()"
   ]
  },
  {
   "cell_type": "code",
   "execution_count": 184,
   "metadata": {},
   "outputs": [
    {
     "data": {
      "text/plain": [
       "array(['Provoked', 'Unprovoked', 'Unknown'], dtype=object)"
      ]
     },
     "execution_count": 184,
     "metadata": {},
     "output_type": "execute_result"
    }
   ],
   "source": [
    "# remove everything but \"Unprovoked\" and \"Provoked\" and have everything else as \"Unknown\"\n",
    "df['Type'] = df['Type'].str.replace(r'^(?!Unprovoked|Provoked).*$', 'Unknown', regex=True)\n",
    "# replace nans with unknow]\n",
    "df['Type'] = df['Type'].fillna('Unknown')\n",
    "df['Type'].unique()"
   ]
  },
  {
   "cell_type": "code",
   "execution_count": 185,
   "metadata": {},
   "outputs": [
    {
     "data": {
      "text/plain": [
       "0.8273518216421969"
      ]
     },
     "execution_count": 185,
     "metadata": {},
     "output_type": "execute_result"
    }
   ],
   "source": [
    "# proportion of attacks that are unprovoked\n",
    "(df['Type'] == 'Unprovoked').mean()"
   ]
  },
  {
   "cell_type": "markdown",
   "metadata": {},
   "source": [
    "#### P6: Clean the Fatal Y/N variable so it only takes three values: Y, N, and Unknown."
   ]
  },
  {
   "cell_type": "code",
   "execution_count": 186,
   "metadata": {},
   "outputs": [
    {
     "data": {
      "text/plain": [
       "array(['N', 'Y', 'F', nan, 'n', 'M', 2017, 'UNKNOWN', ' N'], dtype=object)"
      ]
     },
     "execution_count": 186,
     "metadata": {},
     "output_type": "execute_result"
    }
   ],
   "source": [
    "# look at fatal var\n",
    "df['Fatal Y/N'].unique()"
   ]
  },
  {
   "cell_type": "code",
   "execution_count": 187,
   "metadata": {},
   "outputs": [
    {
     "data": {
      "text/plain": [
       "array(['N', 'Y', 'Unknown'], dtype=object)"
      ]
     },
     "execution_count": 187,
     "metadata": {},
     "output_type": "execute_result"
    }
   ],
   "source": [
    "# change \" N\" to \"N\"\n",
    "df['Fatal Y/N'] = df['Fatal Y/N'].str.replace(r' N$', 'N', regex=True)\n",
    "# change \"n\" to \"N\"\n",
    "df['Fatal Y/N'] = df['Fatal Y/N'].str.replace(r'^n$', 'N', regex=True)\n",
    "# remove everything but \"Y\" and \"N\" and have everything else as \"Unknown\" \n",
    "df['Fatal Y/N'] = df['Fatal Y/N'].str.replace(r'^(?!Y|N).*$', 'Unknown', regex=True)\n",
    "# change nan to unknown\n",
    "df['Fatal Y/N'] = df['Fatal Y/N'].fillna('Unknown')\n",
    "\n",
    "df['Fatal Y/N'].unique()"
   ]
  },
  {
   "cell_type": "markdown",
   "metadata": {},
   "source": [
    "#### P7: Are sharks more likely to launch unprovoked attacks on men or women? Is the attack more or less likely to be fatal when the attack is provoked or unprovoked? Is it more or less likely to be fatal when the victim is male or female? How do you feel about sharks?"
   ]
  },
  {
   "cell_type": "code",
   "execution_count": 188,
   "metadata": {},
   "outputs": [
    {
     "name": "stdout",
     "output_type": "stream",
     "text": [
      "0.8294446270128163 0.16233979625369702\n"
     ]
    }
   ],
   "source": [
    "# are sharks more likely to launch unprovoked attacks on men or women\n",
    "unprovoked_attacks = df[df['Type'] == 'Unprovoked']\n",
    "unprovoked_men = (unprovoked_attacks['Sex'] == 'M').sum()\n",
    "unprovoked_women = (unprovoked_attacks['Sex'] == 'F').sum()\n",
    "total_unprovoked = unprovoked_attacks.shape[0]\n",
    "proportion_men_unprovoked = unprovoked_men / total_unprovoked\n",
    "proportion_women_unprovoked = unprovoked_women / total_unprovoked\n",
    "\n",
    "print(proportion_men_unprovoked, proportion_women_unprovoked)"
   ]
  },
  {
   "cell_type": "markdown",
   "metadata": {},
   "source": [
    "Are sharks more likely to launch unprovoked attacks on men or women? Men"
   ]
  },
  {
   "cell_type": "code",
   "execution_count": 189,
   "metadata": {},
   "outputs": [
    {
     "name": "stdout",
     "output_type": "stream",
     "text": [
      "0.026578073089700997 0.16266841932303647\n"
     ]
    }
   ],
   "source": [
    "# is the attack more or less likely to be fatal when the attack is unprovoked?\n",
    "provoked_attacks = df[df['Type'] == 'Provoked']\n",
    "unprovoked_attacks = df[df['Type'] == 'Unprovoked']\n",
    "fatal_provoked = (provoked_attacks['Fatal Y/N'] == 'Y').mean()\n",
    "fatal_unprovoked = (unprovoked_attacks['Fatal Y/N'] == 'Y').mean()\n",
    "print(fatal_provoked, fatal_unprovoked)"
   ]
  },
  {
   "cell_type": "markdown",
   "metadata": {},
   "source": [
    "They are more likely to be fatal when unprovoked and less likely to be fatal when unprovoked."
   ]
  },
  {
   "cell_type": "code",
   "execution_count": 190,
   "metadata": {},
   "outputs": [
    {
     "name": "stdout",
     "output_type": "stream",
     "text": [
      "0.1466275659824047 0.1335676625659051\n"
     ]
    }
   ],
   "source": [
    "# is it more or less likely to be fatal when the victim is male?\n",
    "fatality_rate_men = df[df['Sex'] == 'M']\n",
    "fatality_rate_women = df[df['Sex'] == 'F']\n",
    "fatality_rate_men = (fatality_rate_men['Fatal Y/N'] == 'Y').mean()\n",
    "fatality_rate_women = (fatality_rate_women['Fatal Y/N'] == 'Y').mean()\n",
    "print(fatality_rate_men, fatality_rate_women)"
   ]
  },
  {
   "cell_type": "markdown",
   "metadata": {},
   "source": [
    "It is more fatal for men and less fatal for women."
   ]
  },
  {
   "cell_type": "markdown",
   "metadata": {},
   "source": [
    "How do I feel about sharks? I have no strong opinions- I have never met one. "
   ]
  },
  {
   "cell_type": "markdown",
   "metadata": {},
   "source": [
    "#### P8: What proportion of attacks appear to be by white sharks? (Hint: str.split() makes a vector of text values into a list of lists, split by spaces.)"
   ]
  },
  {
   "cell_type": "code",
   "execution_count": 191,
   "metadata": {},
   "outputs": [
    {
     "data": {
      "text/plain": [
       "0.000543773790103317"
      ]
     },
     "execution_count": 191,
     "metadata": {},
     "output_type": "execute_result"
    }
   ],
   "source": [
    "df['Species '] = df['Species '].fillna('').astype(str)\n",
    "\n",
    "# tokenize\n",
    "df['Species_tokens'] = df['Species '].str.split()\n",
    "\n",
    "# row has both 'White' and 'Shark'\n",
    "df['contains_white_shark'] = df['Species_tokens'].apply(lambda x: 'White' in x and 'Shark' in x)\n",
    "\n",
    "# rows where both 'White' and 'Shark' are present\n",
    "white_shark_attacks = df[df['contains_white_shark']]\n",
    "\n",
    "# calculate the proportion \n",
    "df['contains_white_shark'].sum() / df.shape[0]"
   ]
  }
 ],
 "metadata": {
  "kernelspec": {
   "display_name": "Python 3",
   "language": "python",
   "name": "python3"
  },
  "language_info": {
   "codemirror_mode": {
    "name": "ipython",
    "version": 3
   },
   "file_extension": ".py",
   "mimetype": "text/x-python",
   "name": "python",
   "nbconvert_exporter": "python",
   "pygments_lexer": "ipython3",
   "version": "3.9.6"
  }
 },
 "nbformat": 4,
 "nbformat_minor": 2
}
